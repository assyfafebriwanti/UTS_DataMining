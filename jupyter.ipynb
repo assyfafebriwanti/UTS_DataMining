{
 "cells": [
  {
   "cell_type": "code",
   "execution_count": 5,
   "id": "547e3d9d-034e-4766-9319-58086ddd8579",
   "metadata": {},
   "outputs": [],
   "source": [
    "import numpy as np\n",
    "import pandas as pd\n",
    "from matplotlib import pyplot as plt\n",
    "import seaborn as sns\n",
    "import warnings\n",
    "warnings.filterwarnings(\"ignore\")"
   ]
  },
  {
   "cell_type": "code",
   "execution_count": 6,
   "id": "24918f69-4ccb-4096-82ad-95a9f08b7e4d",
   "metadata": {},
   "outputs": [
    {
     "data": {
      "text/html": [
       "<div>\n",
       "<style scoped>\n",
       "    .dataframe tbody tr th:only-of-type {\n",
       "        vertical-align: middle;\n",
       "    }\n",
       "\n",
       "    .dataframe tbody tr th {\n",
       "        vertical-align: top;\n",
       "    }\n",
       "\n",
       "    .dataframe thead th {\n",
       "        text-align: right;\n",
       "    }\n",
       "</style>\n",
       "<table border=\"1\" class=\"dataframe\">\n",
       "  <thead>\n",
       "    <tr style=\"text-align: right;\">\n",
       "      <th></th>\n",
       "      <th>InvoiceNo</th>\n",
       "      <th>StockCode</th>\n",
       "      <th>Description</th>\n",
       "      <th>Quantity</th>\n",
       "      <th>InvoiceDate</th>\n",
       "      <th>UnitPrice</th>\n",
       "      <th>CustomerID</th>\n",
       "      <th>Country</th>\n",
       "    </tr>\n",
       "  </thead>\n",
       "  <tbody>\n",
       "    <tr>\n",
       "      <th>0</th>\n",
       "      <td>536365</td>\n",
       "      <td>85123A</td>\n",
       "      <td>WHITE HANGING HEART T-LIGHT HOLDER</td>\n",
       "      <td>6</td>\n",
       "      <td>12/1/2010 8:26</td>\n",
       "      <td>2.55</td>\n",
       "      <td>17850.0</td>\n",
       "      <td>United Kingdom</td>\n",
       "    </tr>\n",
       "    <tr>\n",
       "      <th>1</th>\n",
       "      <td>536365</td>\n",
       "      <td>71053</td>\n",
       "      <td>WHITE METAL LANTERN</td>\n",
       "      <td>6</td>\n",
       "      <td>12/1/2010 8:26</td>\n",
       "      <td>3.39</td>\n",
       "      <td>17850.0</td>\n",
       "      <td>United Kingdom</td>\n",
       "    </tr>\n",
       "    <tr>\n",
       "      <th>2</th>\n",
       "      <td>536365</td>\n",
       "      <td>84406B</td>\n",
       "      <td>CREAM CUPID HEARTS COAT HANGER</td>\n",
       "      <td>8</td>\n",
       "      <td>12/1/2010 8:26</td>\n",
       "      <td>2.75</td>\n",
       "      <td>17850.0</td>\n",
       "      <td>United Kingdom</td>\n",
       "    </tr>\n",
       "    <tr>\n",
       "      <th>3</th>\n",
       "      <td>536365</td>\n",
       "      <td>84029G</td>\n",
       "      <td>KNITTED UNION FLAG HOT WATER BOTTLE</td>\n",
       "      <td>6</td>\n",
       "      <td>12/1/2010 8:26</td>\n",
       "      <td>3.39</td>\n",
       "      <td>17850.0</td>\n",
       "      <td>United Kingdom</td>\n",
       "    </tr>\n",
       "    <tr>\n",
       "      <th>4</th>\n",
       "      <td>536365</td>\n",
       "      <td>84029E</td>\n",
       "      <td>RED WOOLLY HOTTIE WHITE HEART.</td>\n",
       "      <td>6</td>\n",
       "      <td>12/1/2010 8:26</td>\n",
       "      <td>3.39</td>\n",
       "      <td>17850.0</td>\n",
       "      <td>United Kingdom</td>\n",
       "    </tr>\n",
       "    <tr>\n",
       "      <th>...</th>\n",
       "      <td>...</td>\n",
       "      <td>...</td>\n",
       "      <td>...</td>\n",
       "      <td>...</td>\n",
       "      <td>...</td>\n",
       "      <td>...</td>\n",
       "      <td>...</td>\n",
       "      <td>...</td>\n",
       "    </tr>\n",
       "    <tr>\n",
       "      <th>541904</th>\n",
       "      <td>581587</td>\n",
       "      <td>22613</td>\n",
       "      <td>PACK OF 20 SPACEBOY NAPKINS</td>\n",
       "      <td>12</td>\n",
       "      <td>12/9/2011 12:50</td>\n",
       "      <td>0.85</td>\n",
       "      <td>12680.0</td>\n",
       "      <td>France</td>\n",
       "    </tr>\n",
       "    <tr>\n",
       "      <th>541905</th>\n",
       "      <td>581587</td>\n",
       "      <td>22899</td>\n",
       "      <td>CHILDREN'S APRON DOLLY GIRL</td>\n",
       "      <td>6</td>\n",
       "      <td>12/9/2011 12:50</td>\n",
       "      <td>2.10</td>\n",
       "      <td>12680.0</td>\n",
       "      <td>France</td>\n",
       "    </tr>\n",
       "    <tr>\n",
       "      <th>541906</th>\n",
       "      <td>581587</td>\n",
       "      <td>23254</td>\n",
       "      <td>CHILDRENS CUTLERY DOLLY GIRL</td>\n",
       "      <td>4</td>\n",
       "      <td>12/9/2011 12:50</td>\n",
       "      <td>4.15</td>\n",
       "      <td>12680.0</td>\n",
       "      <td>France</td>\n",
       "    </tr>\n",
       "    <tr>\n",
       "      <th>541907</th>\n",
       "      <td>581587</td>\n",
       "      <td>23255</td>\n",
       "      <td>CHILDRENS CUTLERY CIRCUS PARADE</td>\n",
       "      <td>4</td>\n",
       "      <td>12/9/2011 12:50</td>\n",
       "      <td>4.15</td>\n",
       "      <td>12680.0</td>\n",
       "      <td>France</td>\n",
       "    </tr>\n",
       "    <tr>\n",
       "      <th>541908</th>\n",
       "      <td>581587</td>\n",
       "      <td>22138</td>\n",
       "      <td>BAKING SET 9 PIECE RETROSPOT</td>\n",
       "      <td>3</td>\n",
       "      <td>12/9/2011 12:50</td>\n",
       "      <td>4.95</td>\n",
       "      <td>12680.0</td>\n",
       "      <td>France</td>\n",
       "    </tr>\n",
       "  </tbody>\n",
       "</table>\n",
       "<p>541909 rows × 8 columns</p>\n",
       "</div>"
      ],
      "text/plain": [
       "       InvoiceNo StockCode                          Description  Quantity  \\\n",
       "0         536365    85123A   WHITE HANGING HEART T-LIGHT HOLDER         6   \n",
       "1         536365     71053                  WHITE METAL LANTERN         6   \n",
       "2         536365    84406B       CREAM CUPID HEARTS COAT HANGER         8   \n",
       "3         536365    84029G  KNITTED UNION FLAG HOT WATER BOTTLE         6   \n",
       "4         536365    84029E       RED WOOLLY HOTTIE WHITE HEART.         6   \n",
       "...          ...       ...                                  ...       ...   \n",
       "541904    581587     22613          PACK OF 20 SPACEBOY NAPKINS        12   \n",
       "541905    581587     22899         CHILDREN'S APRON DOLLY GIRL          6   \n",
       "541906    581587     23254        CHILDRENS CUTLERY DOLLY GIRL          4   \n",
       "541907    581587     23255      CHILDRENS CUTLERY CIRCUS PARADE         4   \n",
       "541908    581587     22138        BAKING SET 9 PIECE RETROSPOT          3   \n",
       "\n",
       "            InvoiceDate  UnitPrice  CustomerID         Country  \n",
       "0        12/1/2010 8:26       2.55     17850.0  United Kingdom  \n",
       "1        12/1/2010 8:26       3.39     17850.0  United Kingdom  \n",
       "2        12/1/2010 8:26       2.75     17850.0  United Kingdom  \n",
       "3        12/1/2010 8:26       3.39     17850.0  United Kingdom  \n",
       "4        12/1/2010 8:26       3.39     17850.0  United Kingdom  \n",
       "...                 ...        ...         ...             ...  \n",
       "541904  12/9/2011 12:50       0.85     12680.0          France  \n",
       "541905  12/9/2011 12:50       2.10     12680.0          France  \n",
       "541906  12/9/2011 12:50       4.15     12680.0          France  \n",
       "541907  12/9/2011 12:50       4.15     12680.0          France  \n",
       "541908  12/9/2011 12:50       4.95     12680.0          France  \n",
       "\n",
       "[541909 rows x 8 columns]"
      ]
     },
     "execution_count": 6,
     "metadata": {},
     "output_type": "execute_result"
    }
   ],
   "source": [
    "data = pd.read_csv('Online Retail-unclean.csv')\n",
    "data"
   ]
  },
  {
   "cell_type": "code",
   "execution_count": 7,
   "id": "9386dd1e-815e-4b39-87e0-779695db2b6c",
   "metadata": {},
   "outputs": [],
   "source": [
    "missing_data = data.isnull().sum()"
   ]
  },
  {
   "cell_type": "code",
   "execution_count": 8,
   "id": "c560fdc9-06a7-4adc-b5bf-b642a1eac5c7",
   "metadata": {},
   "outputs": [
    {
     "name": "stdout",
     "output_type": "stream",
     "text": [
      "Description      1454\n",
      "UnitPrice           5\n",
      "CustomerID     135086\n",
      "Country             8\n",
      "dtype: int64\n"
     ]
    }
   ],
   "source": [
    "missing_columns = missing_data[missing_data > 0]\n",
    "print(missing_columns)"
   ]
  },
  {
   "cell_type": "code",
   "execution_count": 9,
   "id": "74591359-70f0-45db-a101-e4a4f5e80ba3",
   "metadata": {},
   "outputs": [],
   "source": [
    "missing_info = data[data.isnull().any(axis=1)]"
   ]
  },
  {
   "cell_type": "code",
   "execution_count": 10,
   "id": "d9dc2a8d-3169-40af-a148-007990acdb50",
   "metadata": {},
   "outputs": [],
   "source": [
    "missing_counts = missing_info.isnull().sum(axis=1)"
   ]
  },
  {
   "cell_type": "code",
   "execution_count": 11,
   "id": "5070bb4b-e418-4c77-b3e3-7e3d599a984d",
   "metadata": {},
   "outputs": [
    {
     "name": "stdout",
     "output_type": "stream",
     "text": [
      "Negara yang memiliki missing data adalah 'Australia'\n",
      "Negara yang memiliki missing data adalah 'Bahrain'\n",
      "Negara yang memiliki missing data adalah 'Canada'\n",
      "Negara yang memiliki missing data adalah 'EIRE'\n",
      "Negara yang memiliki missing data adalah 'France'\n",
      "Negara yang memiliki missing data adalah 'Hong Kong'\n",
      "Negara yang memiliki missing data adalah 'Israel'\n",
      "Negara yang memiliki missing data adalah 'Portugal'\n",
      "Negara yang memiliki missing data adalah 'Singapore'\n",
      "Negara yang memiliki missing data adalah 'Switzerland'\n",
      "Negara yang memiliki missing data adalah 'United Kingdom'\n",
      "Negara yang memiliki missing data adalah 'Unspecified'\n"
     ]
    }
   ],
   "source": [
    "missing_info['MissingCount'] = missing_counts\n",
    "grouped_missing = missing_info.groupby('Country')['MissingCount'].sum()\n",
    "\n",
    "for country, count in grouped_missing.items():\n",
    "    print(f\"Negara yang memiliki missing data adalah '{country}'\")"
   ]
  },
  {
   "cell_type": "code",
   "execution_count": 12,
   "id": "15332835-1072-4399-b021-7c95dd778c3f",
   "metadata": {},
   "outputs": [],
   "source": [
    "data = data.dropna(subset=['Description'])"
   ]
  },
  {
   "cell_type": "code",
   "execution_count": 13,
   "id": "d99225a2-0d8a-4b62-92a6-eb15ac6dd0bd",
   "metadata": {},
   "outputs": [],
   "source": [
    "data['UnitPrice'].fillna(data['UnitPrice'].mean(), inplace=True)"
   ]
  },
  {
   "cell_type": "code",
   "execution_count": 14,
   "id": "805a9290-11ad-4059-8e15-800d6aef7023",
   "metadata": {},
   "outputs": [],
   "source": [
    "data['CustomerID'].fillna(0, inplace=True)"
   ]
  },
  {
   "cell_type": "code",
   "execution_count": 15,
   "id": "954a5409-605c-4c47-bb9a-662982cf259f",
   "metadata": {},
   "outputs": [],
   "source": [
    "country_mode = data['Country'].mode()[0]"
   ]
  },
  {
   "cell_type": "code",
   "execution_count": 16,
   "id": "2cb8a3e7-a906-4a69-92b9-729c41d6af87",
   "metadata": {},
   "outputs": [],
   "source": [
    "data['Country'].fillna(country_mode, inplace=True)"
   ]
  },
  {
   "cell_type": "code",
   "execution_count": 17,
   "id": "5ffe621c-ee7f-4e18-8695-642619ca6244",
   "metadata": {},
   "outputs": [],
   "source": [
    "missing_data = data.isnull().sum()"
   ]
  },
  {
   "cell_type": "code",
   "execution_count": 18,
   "id": "50e48891-b44e-4e59-afb7-5ec22108b439",
   "metadata": {},
   "outputs": [
    {
     "name": "stdout",
     "output_type": "stream",
     "text": [
      "Jumlah missing data per kolom:\n",
      " InvoiceNo      0\n",
      "StockCode      0\n",
      "Description    0\n",
      "Quantity       0\n",
      "InvoiceDate    0\n",
      "UnitPrice      0\n",
      "CustomerID     0\n",
      "Country        0\n",
      "dtype: int64\n"
     ]
    }
   ],
   "source": [
    "print(\"Jumlah missing data per kolom:\\n\", missing_data)"
   ]
  },
  {
   "cell_type": "code",
   "execution_count": 19,
   "id": "2ec540ae-b234-48e2-a0c8-4bd69dfdef0d",
   "metadata": {},
   "outputs": [
    {
     "name": "stdout",
     "output_type": "stream",
     "text": [
      "Tidak ada missing data di file.\n"
     ]
    }
   ],
   "source": [
    "if missing_data.sum() > 0:\n",
    "    print(\"Masih ada missing data di file.\")\n",
    "else:\n",
    "    print(\"Tidak ada missing data di file.\")"
   ]
  },
  {
   "cell_type": "code",
   "execution_count": 20,
   "id": "9ee1324f-ad46-4bf9-8454-0dbc5a551466",
   "metadata": {},
   "outputs": [],
   "source": [
    "data.to_csv('cleaned_data.csv', index=False)"
   ]
  },
  {
   "cell_type": "code",
   "execution_count": 21,
   "id": "a9f830dd-44a9-4ee4-8dcb-726101403557",
   "metadata": {},
   "outputs": [],
   "source": [
    "mean_unitprice = data['UnitPrice'].mean()"
   ]
  },
  {
   "cell_type": "code",
   "execution_count": 22,
   "id": "6adbb839-22bc-4890-b319-0b10b5714148",
   "metadata": {},
   "outputs": [
    {
     "name": "stdout",
     "output_type": "stream",
     "text": [
      "Mean dari kolom 'UnitPrice': 4.623501663428626\n"
     ]
    }
   ],
   "source": [
    "print(\"Mean dari kolom 'UnitPrice':\", mean_unitprice)"
   ]
  },
  {
   "cell_type": "code",
   "execution_count": 23,
   "id": "81272a28-14d0-493d-9aad-e82cee0e1f3c",
   "metadata": {},
   "outputs": [
    {
     "data": {
      "text/html": [
       "<div>\n",
       "<style scoped>\n",
       "    .dataframe tbody tr th:only-of-type {\n",
       "        vertical-align: middle;\n",
       "    }\n",
       "\n",
       "    .dataframe tbody tr th {\n",
       "        vertical-align: top;\n",
       "    }\n",
       "\n",
       "    .dataframe thead th {\n",
       "        text-align: right;\n",
       "    }\n",
       "</style>\n",
       "<table border=\"1\" class=\"dataframe\">\n",
       "  <thead>\n",
       "    <tr style=\"text-align: right;\">\n",
       "      <th></th>\n",
       "      <th>InvoiceNo</th>\n",
       "      <th>StockCode</th>\n",
       "      <th>Description</th>\n",
       "      <th>Quantity</th>\n",
       "      <th>InvoiceDate</th>\n",
       "      <th>UnitPrice</th>\n",
       "      <th>CustomerID</th>\n",
       "      <th>Country</th>\n",
       "    </tr>\n",
       "  </thead>\n",
       "  <tbody>\n",
       "    <tr>\n",
       "      <th>0</th>\n",
       "      <td>536365</td>\n",
       "      <td>85123A</td>\n",
       "      <td>WHITE HANGING HEART T-LIGHT HOLDER</td>\n",
       "      <td>6</td>\n",
       "      <td>12/1/2010 8:26</td>\n",
       "      <td>2.55</td>\n",
       "      <td>17850.0</td>\n",
       "      <td>United Kingdom</td>\n",
       "    </tr>\n",
       "    <tr>\n",
       "      <th>1</th>\n",
       "      <td>536365</td>\n",
       "      <td>71053</td>\n",
       "      <td>WHITE METAL LANTERN</td>\n",
       "      <td>6</td>\n",
       "      <td>12/1/2010 8:26</td>\n",
       "      <td>3.39</td>\n",
       "      <td>17850.0</td>\n",
       "      <td>United Kingdom</td>\n",
       "    </tr>\n",
       "    <tr>\n",
       "      <th>2</th>\n",
       "      <td>536365</td>\n",
       "      <td>84406B</td>\n",
       "      <td>CREAM CUPID HEARTS COAT HANGER</td>\n",
       "      <td>8</td>\n",
       "      <td>12/1/2010 8:26</td>\n",
       "      <td>2.75</td>\n",
       "      <td>17850.0</td>\n",
       "      <td>United Kingdom</td>\n",
       "    </tr>\n",
       "    <tr>\n",
       "      <th>3</th>\n",
       "      <td>536365</td>\n",
       "      <td>84029G</td>\n",
       "      <td>KNITTED UNION FLAG HOT WATER BOTTLE</td>\n",
       "      <td>6</td>\n",
       "      <td>12/1/2010 8:26</td>\n",
       "      <td>3.39</td>\n",
       "      <td>17850.0</td>\n",
       "      <td>United Kingdom</td>\n",
       "    </tr>\n",
       "    <tr>\n",
       "      <th>4</th>\n",
       "      <td>536365</td>\n",
       "      <td>84029E</td>\n",
       "      <td>RED WOOLLY HOTTIE WHITE HEART.</td>\n",
       "      <td>6</td>\n",
       "      <td>12/1/2010 8:26</td>\n",
       "      <td>3.39</td>\n",
       "      <td>17850.0</td>\n",
       "      <td>United Kingdom</td>\n",
       "    </tr>\n",
       "  </tbody>\n",
       "</table>\n",
       "</div>"
      ],
      "text/plain": [
       "  InvoiceNo StockCode                          Description  Quantity  \\\n",
       "0    536365    85123A   WHITE HANGING HEART T-LIGHT HOLDER         6   \n",
       "1    536365     71053                  WHITE METAL LANTERN         6   \n",
       "2    536365    84406B       CREAM CUPID HEARTS COAT HANGER         8   \n",
       "3    536365    84029G  KNITTED UNION FLAG HOT WATER BOTTLE         6   \n",
       "4    536365    84029E       RED WOOLLY HOTTIE WHITE HEART.         6   \n",
       "\n",
       "      InvoiceDate  UnitPrice  CustomerID         Country  \n",
       "0  12/1/2010 8:26       2.55     17850.0  United Kingdom  \n",
       "1  12/1/2010 8:26       3.39     17850.0  United Kingdom  \n",
       "2  12/1/2010 8:26       2.75     17850.0  United Kingdom  \n",
       "3  12/1/2010 8:26       3.39     17850.0  United Kingdom  \n",
       "4  12/1/2010 8:26       3.39     17850.0  United Kingdom  "
      ]
     },
     "execution_count": 23,
     "metadata": {},
     "output_type": "execute_result"
    }
   ],
   "source": [
    "data.head()"
   ]
  },
  {
   "cell_type": "code",
   "execution_count": 24,
   "id": "a8a89230-10ad-4a2b-a2d9-4769decfdb29",
   "metadata": {},
   "outputs": [],
   "source": [
    "data['InvoiceDate'] = pd.to_datetime(data['InvoiceDate'])"
   ]
  },
  {
   "cell_type": "code",
   "execution_count": 25,
   "id": "ef059e1b-0336-4493-9890-48f8e41989d8",
   "metadata": {},
   "outputs": [],
   "source": [
    "data['Month'] = data['InvoiceDate'].dt.to_period('M') "
   ]
  },
  {
   "cell_type": "code",
   "execution_count": 26,
   "id": "440e5ce9-c838-4338-980e-de9facb889ad",
   "metadata": {},
   "outputs": [],
   "source": [
    "aggregated_data = data.groupby(['Country', 'Month'])['UnitPrice'].sum().reset_index()"
   ]
  },
  {
   "cell_type": "code",
   "execution_count": 27,
   "id": "ff12c9b4-c11a-49d0-bc88-8787da993e70",
   "metadata": {},
   "outputs": [
    {
     "name": "stdout",
     "output_type": "stream",
     "text": [
      "         Country    Month   UnitPrice\n",
      "0      Australia  2010-12  147.507003\n",
      "1      Australia  2011-01  339.410505\n",
      "2      Australia  2011-02  273.630000\n",
      "3      Australia  2011-03  372.570000\n",
      "4      Australia  2011-04  396.550000\n",
      "..           ...      ...         ...\n",
      "309  Unspecified  2011-06   42.100000\n",
      "310  Unspecified  2011-07  627.050000\n",
      "311  Unspecified  2011-08  146.510000\n",
      "312  Unspecified  2011-09  108.430000\n",
      "313  Unspecified  2011-11  116.100000\n",
      "\n",
      "[314 rows x 3 columns]\n"
     ]
    }
   ],
   "source": [
    "print(aggregated_data)"
   ]
  },
  {
   "cell_type": "code",
   "execution_count": 31,
   "id": "c072cbae-f606-47b0-b793-db759fcc93c1",
   "metadata": {},
   "outputs": [],
   "source": [
    "aggregated_data.to_csv('Aggregasi.csv', index=False)"
   ]
  },
  {
   "cell_type": "code",
   "execution_count": 29,
   "id": "40b929a3-80fc-41df-986d-7748e496f8d3",
   "metadata": {},
   "outputs": [
    {
     "name": "stdout",
     "output_type": "stream",
     "text": [
      "                 Country  TotalData  Sample_alpha_0.03  Sample_alpha_0.01\n",
      "0         United Kingdom     494032                 16                 65\n",
      "1                Germany       9495                 16                 65\n",
      "2                 France       8557                 16                 65\n",
      "3                   EIRE       8196                 16                 65\n",
      "4                  Spain       2533                 16                 65\n",
      "5            Netherlands       2371                 16                 65\n",
      "6                Belgium       2069                 16                 65\n",
      "7            Switzerland       2002                 16                 65\n",
      "8               Portugal       1519                 16                 65\n",
      "9              Australia       1256                 16                 65\n",
      "10                Norway       1086                 16                 65\n",
      "11                 Italy        803                 16                 65\n",
      "12       Channel Islands        758                 16                 65\n",
      "13               Finland        695                 16                 65\n",
      "14                Cyprus        622                 16                 65\n",
      "15                Sweden        462                 16                 65\n",
      "16           Unspecified        446                 16                 65\n",
      "17               Austria        401                 16                 65\n",
      "18               Denmark        389                 16                 65\n",
      "19                 Japan        358                 16                 65\n",
      "20                Poland        341                 16                 65\n",
      "21                Israel        297                 16                 65\n",
      "22                   USA        291                 16                 65\n",
      "23             Hong Kong        288                 16                 65\n",
      "24             Singapore        229                 16                 65\n",
      "25               Iceland        182                 16                 65\n",
      "26                Greece        146                 16                 65\n",
      "27                Canada        146                 16                 65\n",
      "28                 Malta        127                 16                 65\n",
      "29  United Arab Emirates         68                 16                 65\n",
      "30    European Community         61                 16                 61\n",
      "31                   RSA         58                 16                 58\n",
      "32               Lebanon         45                 16                 45\n",
      "33             Lithuania         35                 16                 35\n",
      "34                Brazil         32                 16                 32\n",
      "35        Czech Republic         30                 16                 30\n",
      "36               Bahrain         19                 16                 19\n",
      "37          Saudi Arabia         10                 10                 10\n"
     ]
    }
   ],
   "source": [
    "import math\n",
    "\n",
    "country_counts = data['Country'].value_counts().reset_index()\n",
    "country_counts.columns = ['Country', 'TotalData']\n",
    "\n",
    "def calculate_sample_size(total, alpha):\n",
    "    Z = {0.03: 1.88, 0.01: 2.58}[alpha]  \n",
    "    p = 0.5  \n",
    "    E = alpha  \n",
    "    n = (Z*2 * p * (1 - p)) / (E*2)\n",
    "    n = math.ceil(n)  \n",
    "    return min(total, n)  \n",
    "\n",
    "country_counts['Sample_alpha_0.03'] = country_counts['TotalData'].apply(lambda x: calculate_sample_size(x, 0.03))\n",
    "country_counts['Sample_alpha_0.01'] = country_counts['TotalData'].apply(lambda x: calculate_sample_size(x, 0.01))\n",
    "\n",
    "country_counts.to_csv('Sampling.csv', index=False)\n",
    "\n",
    "print(country_counts)"
   ]
  },
  {
   "cell_type": "code",
   "execution_count": null,
   "id": "fe4989d2-e276-4d1e-84d7-496f5ac31890",
   "metadata": {},
   "outputs": [],
   "source": []
  }
 ],
 "metadata": {
  "kernelspec": {
   "display_name": "Python 3 (ipykernel)",
   "language": "python",
   "name": "python3"
  },
  "language_info": {
   "codemirror_mode": {
    "name": "ipython",
    "version": 3
   },
   "file_extension": ".py",
   "mimetype": "text/x-python",
   "name": "python",
   "nbconvert_exporter": "python",
   "pygments_lexer": "ipython3",
   "version": "3.13.0"
  }
 },
 "nbformat": 4,
 "nbformat_minor": 5
}
